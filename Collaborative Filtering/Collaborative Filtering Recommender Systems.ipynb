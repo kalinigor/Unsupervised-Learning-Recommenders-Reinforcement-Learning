{
 "cells": [
  {
   "cell_type": "code",
   "execution_count": 3,
   "id": "41832efd",
   "metadata": {},
   "outputs": [],
   "source": [
    "import numpy as np\n",
    "import tensorflow as tf\n",
    "from tensorflow import keras\n",
    "from recsys_utils import *"
   ]
  },
  {
   "cell_type": "markdown",
   "id": "92477bad",
   "metadata": {},
   "source": [
    "|General <br />  Notation  | Description| Python (if any) |\n",
    "|:-------------|:------------------------------------------------------------||\n",
    "| $r(i,j)$     | scalar; = 1  if user j rated movie i  = 0  otherwise             ||\n",
    "| $y(i,j)$     | scalar; = rating given by user j on movie  i    (if r(i,j) = 1 is defined) ||\n",
    "|$\\mathbf{w}^{(j)}$ | vector; parameters for user j ||\n",
    "|$b^{(j)}$     |  scalar; parameter for user j ||\n",
    "| $\\mathbf{x}^{(i)}$ |   vector; feature ratings for movie i        ||     \n",
    "| $n_u$        | number of users |num_users|\n",
    "| $n_m$        | number of movies | num_movies |\n",
    "| $n$          | number of features | num_features                    |\n",
    "| $\\mathbf{X}$ |  matrix of vectors $\\mathbf{x}^{(i)}$         | X |\n",
    "| $\\mathbf{W}$ |  matrix of vectors $\\mathbf{w}^{(j)}$         | W |\n",
    "| $\\mathbf{b}$ |  vector of bias parameters $b^{(j)}$ | b |\n",
    "| $\\mathbf{R}$ | matrix of elements $r(i,j)$                    | R |\n",
    "\n",
    "Generate two vectors: \n",
    "1. For each user (column) - parameter vector \n",
    "2. For each movie (row) - feature vector \n",
    "\n",
    "Dot product of these two vectors (+bias term) produce an estimate of the rating the user might give to that movie"
   ]
  },
  {
   "cell_type": "markdown",
   "id": "db90c11a",
   "metadata": {},
   "source": [
    "# "
   ]
  },
  {
   "cell_type": "code",
   "execution_count": 4,
   "id": "c02cb6be",
   "metadata": {},
   "outputs": [
    {
     "name": "stdout",
     "output_type": "stream",
     "text": [
      "num_features:  10\n",
      "num_movies:  4778\n",
      "num_users:  443\n",
      "Y shape:  (4778, 443) R shape:  (4778, 443)\n",
      "X shape:  (4778, 10)\n",
      "W shape:  (443, 10)\n"
     ]
    }
   ],
   "source": [
    "#Loading the dataset\n",
    "\n",
    "X, W, b, num_movies, num_features, num_users = load_precalc_params_small()\n",
    "Y, R = load_ratings_small()\n",
    "\n",
    "print(\"num_features: \", num_features)\n",
    "print(\"num_movies: \",   num_movies)\n",
    "print(\"num_users: \",    num_users)\n",
    "\n",
    "print(\"Y shape: \", Y.shape, \"R shape: \", R.shape) # movies x users (same shape but R is binary)\n",
    "print(\"X shape: \", X.shape) #movies x features\n",
    "print(\"W shape: \", W.shape) #users x features\n"
   ]
  },
  {
   "cell_type": "code",
   "execution_count": 5,
   "id": "34cb2646",
   "metadata": {},
   "outputs": [
    {
     "name": "stdout",
     "output_type": "stream",
     "text": [
      "Average rating for movie 1: 3.400 / 5\n"
     ]
    }
   ],
   "source": [
    "#Average rating\n",
    "\n",
    "tsmean = np.mean(Y[0, R[0,:].astype(bool)])\n",
    "print(f\"Average rating for movie 1: {tsmean:0.3f} / 5\")"
   ]
  },
  {
   "cell_type": "markdown",
   "id": "12bbad67",
   "metadata": {},
   "source": [
    "### Collaborative filtering learning algorithm\n",
    "\n",
    "The collaborative filtering cost function is given by\n",
    "$$J({\\mathbf{x}^{(0)},...,\\mathbf{x}^{(n_m-1)},\\mathbf{w}^{(0)},b^{(0)},...,\\mathbf{w}^{(n_u-1)},b^{(n_u-1)}})= \\frac{1}{2}\\sum_{(i,j):r(i,j)=1}(\\mathbf{w}^{(j)} \\cdot \\mathbf{x}^{(i)} + b^{(j)} - y^{(i,j)})^2\n",
    "+\\underbrace{\n",
    "\\frac{\\lambda}{2}\n",
    "\\sum_{j=0}^{n_u-1}\\sum_{k=0}^{n-1}(\\mathbf{w}^{(j)}_k)^2\n",
    "+ \\frac{\\lambda}{2}\\sum_{i=0}^{n_m-1}\\sum_{k=0}^{n-1}(\\mathbf{x}_k^{(i)})^2\n",
    "}_{regularization}\n",
    "\\tag{1}$$"
   ]
  },
  {
   "cell_type": "code",
   "execution_count": 8,
   "id": "f6a8292f",
   "metadata": {},
   "outputs": [],
   "source": [
    "#Computing the cost function\n",
    "\n",
    "def cofi_cost_func(X,W, b, Y, R, lambda_):\n",
    "    nm, nu = Y.shape\n",
    "    J = 0\n",
    "    for j in range(nu):\n",
    "        w = W[j,:] #All w parameters for user j\n",
    "        b_j = b[0,j] #b paramater for user j\n",
    "        \n",
    "        for i in range(nm):\n",
    "            x = X[i,:] #All features for movie i\n",
    "            r = R[i,j] #Did user j rated movie i\n",
    "            y = Y[i,j] #Rating for movie i from a user j\n",
    "            \n",
    "            \n",
    "            J+= np.square(r * (np.dot(w,x) + b_j - y)) \n",
    "    J = J/2\n",
    "    J+= (lambda_/2) * (np.sum(np.square(W)) + np.sum(np.square(X)))\n",
    "\n",
    "    return J"
   ]
  },
  {
   "cell_type": "code",
   "execution_count": 9,
   "id": "2f18670c",
   "metadata": {},
   "outputs": [
    {
     "name": "stdout",
     "output_type": "stream",
     "text": [
      "Cost without regularization: 13.67\n",
      "Cost without regularization: 28.09\n"
     ]
    }
   ],
   "source": [
    "#Reducing dataset size for faster testing\n",
    "num_users_r = 4\n",
    "num_movies_r = 5\n",
    "num_features_r = 3\n",
    "\n",
    "X_r = X[:num_movies_r, :num_features_r]\n",
    "W_r = W[:num_users_r,  :num_features_r]\n",
    "b_r = b[0, :num_users_r].reshape(1,-1)\n",
    "Y_r = Y[:num_movies_r, :num_users_r]\n",
    "R_r = R[:num_movies_r, :num_users_r]\n",
    "\n",
    "# Evaluate cost function without regularization\n",
    "J = cofi_cost_func(X_r, W_r, b_r, Y_r, R_r, 0);\n",
    "print(f\"Cost without regularization: {J:0.2f}\")\n",
    "\n",
    "#Evaluate cost function with regularization\n",
    "J = cofi_cost_func(X_r, W_r, b_r, Y_r, R_r, 1.5);\n",
    "print(f\"Cost without regularization: {J:0.2f}\")\n"
   ]
  },
  {
   "cell_type": "code",
   "execution_count": 10,
   "id": "1fa41a81",
   "metadata": {},
   "outputs": [],
   "source": [
    "#Vectorized implementation\n",
    "\n",
    "def cofi_cost_func_v(X, W, b, Y, R, lambda_):\n",
    "    j = (tf.linalg.matmul(X, tf.transpose(W)) + b - Y) * R\n",
    "    J = 0.5 * tf.reduce_sum(j**2) + (lambda_/2) * (tf.reduce_sum(X**2) + tf.reduce_sum(W**2))\n",
    "    return J"
   ]
  },
  {
   "cell_type": "code",
   "execution_count": null,
   "id": "e4b71462",
   "metadata": {},
   "outputs": [],
   "source": [
    "#Testing Vectorized implementation\n",
    "\n",
    "# Evaluate cost function\n",
    "J = cofi_cost_func_v(X_r, W_r, b_r, Y_r, R_r, 0);\n",
    "print(f\"Cost: {J:0.2f}\")\n",
    "\n",
    "# Evaluate cost function with regularization \n",
    "J = cofi_cost_func_v(X_r, W_r, b_r, Y_r, R_r, 1.5);\n",
    "print(f\"Cost (with regularization): {J:0.2f}\")"
   ]
  },
  {
   "cell_type": "code",
   "execution_count": null,
   "id": "2c9c409b",
   "metadata": {},
   "outputs": [],
   "source": [
    "#Learning movie recommendations\n",
    "\n",
    "movieList, movieList_df = load_Movie_List_pd()\n",
    "\n",
    "my_ratings = np.zeros(num_movies)"
   ]
  },
  {
   "cell_type": "code",
   "execution_count": null,
   "id": "4a3251f4",
   "metadata": {},
   "outputs": [],
   "source": [
    "# We have selected a few movies we liked / did not like and the ratings we gave are as follows:\n",
    "my_ratings[929]  = 5   # Lord of the Rings: The Return of the King, The\n",
    "my_ratings[246]  = 5   # Shrek (2001)\n",
    "my_ratings[2716] = 3   # Inception\n",
    "my_ratings[1150] = 5   # Incredibles, The (2004)\n",
    "my_ratings[382]  = 2   # Amelie (Fabuleux destin d'Amélie Poulain, Le)\n",
    "my_ratings[366]  = 5   # Harry Potter and the Sorcerer's Stone (a.k.a. Harry Potter and the Philosopher's Stone) (2001)\n",
    "my_ratings[622]  = 5   # Harry Potter and the Chamber of Secrets (2002)\n",
    "my_ratings[988]  = 3   # Eternal Sunshine of the Spotless Mind (2004)\n",
    "my_ratings[2925] = 1   # Louis Theroux: Law & Disorder (2008)\n",
    "my_ratings[2937] = 1   # Nothing to Declare (Rien à déclarer)\n",
    "my_ratings[793]  = 5   # Pirates of the Caribbean: The Curse of the Black Pearl (2003)\n",
    "\n",
    "my_rated = [i for i in range(len(my_ratings)) if my_ratings[i] > 0]\n",
    "\n",
    "\n",
    "print('\\nNew user ratings: \\n')\n",
    "\n",
    "for i in range(len(my_ratings)):\n",
    "    if my_ratings[i]>0:\n",
    "        print(f\"Rated {my_ratings[i]} for {movieList_df.loc[i,'title']}\")"
   ]
  },
  {
   "cell_type": "code",
   "execution_count": null,
   "id": "d21dcc44",
   "metadata": {},
   "outputs": [],
   "source": [
    "# Reload ratings and add new ratings\n",
    "Y, R = load_ratings_small()\n",
    "Y    = np.c_[my_ratings, Y]\n",
    "R    = np.c_[(my_ratings != 0).astype(int), R]\n",
    "\n",
    "# Normalize the Dataset\n",
    "Ynorm, Ymean = normalizeRatings(Y, R)"
   ]
  },
  {
   "cell_type": "code",
   "execution_count": null,
   "id": "2756f838",
   "metadata": {},
   "outputs": [],
   "source": [
    "#Preparing the model\n",
    "\n",
    "nuM_movies, num_users = Y.shape\n",
    "num_features = 100\n",
    "tf.random.set_seed(1234) #for consistent results\n",
    "\n",
    "#Setting parameters\n",
    "W = tf.Variable(tf.random.normal((num_users, num_features), dtype=tf.float64), name='W')\n",
    "X = tf.Variable(tf.random.normal((num_movies, num_features), dtype=tf.float64), name='X')\n",
    "b = tf.Variable(tf.random.normal((1, num_users), dtype=tf.float64), name='b')\n",
    "\n",
    "#Instantiate an optimizer\n",
    "\n",
    "optimizer = keras.optimizers.Adam(learning_rate=1e-1)"
   ]
  },
  {
   "cell_type": "code",
   "execution_count": null,
   "id": "8b720980",
   "metadata": {},
   "outputs": [],
   "source": [
    "#Training\n",
    "\n",
    "iterations = 200\n",
    "lambda_ = 1\n",
    "\n",
    "for iter in range(iterations):\n",
    "    with tf.GradientTape() as tape:\n",
    "        #Compute the cost\n",
    "        cost_value = cofi_cost_func_v(X, W, b, Ynorm, R, lambda_)\n",
    "    \n",
    "    #Automatically get the gradients of the trainable variables \n",
    "    grads = tape.gradient(cost_value, [X, W, b])\n",
    "    \n",
    "    #Run one step of Gradient Descent by updating the valuo of the variables to minimize the loss\n",
    "    optimizer.apply_gradients(zip(grads, [X, W, b]))\n",
    "    \n",
    "    #Log prediocally\n",
    "    if iter%20==0:\n",
    "        print(f\"Training loss at iteration {iter}: {cost_value:0.1f}\")"
   ]
  },
  {
   "cell_type": "code",
   "execution_count": null,
   "id": "62d0a0ed",
   "metadata": {},
   "outputs": [],
   "source": [
    "#Making the recommendations\n",
    "\n",
    "#Make a prediction using trained weights and biases\n",
    "p = np.matmul(X.numpy(), np.transpose(W.numpy())) + b.numpy()\n",
    "\n",
    "#restore the mean\n",
    "pm = p + Ymean\n",
    "\n",
    "my_predictions = pm[:, 0]\n",
    "\n",
    "#Sort the predictions\n",
    "ix = tf.argsort(my_predictions, direction='DESCENDING')\n",
    "\n",
    "for i in range(17):\n",
    "    j = ix[i]\n",
    "    if j not in my_rated:\n",
    "        print(f\"Predicting rating {my_predictions[j]:0.2f} for movie {movieList[j]}\")\n",
    "\n",
    "print(\"\\nOriginal vs Predicted ratings:\\n\")\n",
    "\n",
    "for i in range(len(my_ratings)):\n",
    "    if my_ratings[i] > 0 :\n",
    "        print(f\"Original rating: {my_ratings[i]}, Predicted rating: {my_predictions[i]:0.2f}, for {movieList[i]}\")"
   ]
  },
  {
   "cell_type": "code",
   "execution_count": null,
   "id": "c003337a",
   "metadata": {},
   "outputs": [],
   "source": [
    "#Using pandas for sorting\n",
    "\n",
    "filter=(movieList_df[\"number of ratings\"] > 20)\n",
    "movieList_df[\"pred\"] = my_predictions\n",
    "movieList_df = movieList_df.reindex(columns=[\"pred\", \"mean rating\", \"number of ratings\", \"title\"])\n",
    "movieList_df.loc[ix[:300]].loc[filter].sort_values(\"mean rating\", ascending=False)"
   ]
  },
  {
   "cell_type": "code",
   "execution_count": null,
   "id": "7f63afd7",
   "metadata": {},
   "outputs": [],
   "source": []
  }
 ],
 "metadata": {
  "kernelspec": {
   "display_name": "Python 3",
   "language": "python",
   "name": "python3"
  },
  "language_info": {
   "codemirror_mode": {
    "name": "ipython",
    "version": 3
   },
   "file_extension": ".py",
   "mimetype": "text/x-python",
   "name": "python",
   "nbconvert_exporter": "python",
   "pygments_lexer": "ipython3",
   "version": "3.8.8"
  }
 },
 "nbformat": 4,
 "nbformat_minor": 5
}
